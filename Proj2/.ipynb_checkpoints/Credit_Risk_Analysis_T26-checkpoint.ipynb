{
 "cells": [
  {
   "cell_type": "markdown",
   "metadata": {},
   "source": [
    "# Supervised learning models for predicting Credit Risk Analysis\n",
    "\n",
    "### Notebook by [José David Rocha](https://github.com/davidrocha9), [Telmo Botelho](https://github.com/Telmo465)\n",
    "#### Supported by [Luis Paulo Reis](https://web.fe.up.pt/~lpreis/)\n",
    "#### [Faculdade de Engenharia da Universidade do Porto](https://sigarra.up.pt/feup/en/web_page.inicial)\n",
    "\n",
    "#### It is recommended to [view this notebook in nbviewer]() for the best overall experience\n",
    "#### You can also execute the code on this notebook using [Jupyter Notebook](https://jupyter.org/) or [Binder](https://mybinder.org/) (no local installation required)"
   ]
  },
  {
   "cell_type": "markdown",
   "metadata": {},
   "source": [
    "## Table of contents\n",
    "\n",
    "1. [Introduction](#Introduction)\n",
    "\n",
    "2. [License](#License)\n",
    "\n",
    "3. [Required libraries](#Required-libraries)\n",
    "\n",
    "4. [The problem domain](#The-problem-domain)\n",
    "\n",
    "5. [Step 1: Answering the question](#Step-1:-Answering-the-question)"
   ]
  },
  {
   "cell_type": "markdown",
   "metadata": {},
   "source": [
    "## Introduction\n",
    "\n",
    "### TO DO\n",
    "\n",
    "[[ go back to the top ]](#Table-of-contents)"
   ]
  },
  {
   "cell_type": "markdown",
   "metadata": {},
   "source": [
    "## Required libraries\n",
    "\n",
    "[[ go back to the top ]](#Table-of-contents)\n",
    "\n",
    "If you don't have Python on your computer, you can use the [Anaconda Python distribution](http://continuum.io/downloads) to install most of the Python packages you need. Anaconda provides a simple double-click installer for your convenience.\n",
    "\n",
    "This notebook uses several Python packages that come standard with the Anaconda Python distribution. The primary libraries that we'll be using are:\n",
    "\n",
    "* **NumPy**: Provides a fast numerical array structure and helper functions.\n",
    "* **pandas**: Provides a DataFrame structure to store data in memory and work with it easily and efficiently.\n",
    "* **scikit-learn**: The essential Machine Learning package in Python.\n",
    "* **matplotlib**: Basic plotting library in Python; most other Python plotting libraries are built on top of it.\n",
    "* **Seaborn**: Advanced statistical plotting library."
   ]
  },
  {
   "cell_type": "markdown",
   "metadata": {},
   "source": [
    "## Step 1: Answering the question\n",
    "\n",
    "[[ go back to the top ]](#Table-of-contents)\n",
    "\n",
    "The first step to any data analysis project is to define the question or problem we're looking to solve, and to define a measure (or set of measures) for our success at solving that task. The data analysis checklist has us answer a handful of questions to accomplish that, so the first step that should be taken is working through those questions.\n",
    "\n",
    "#### Did you specify the type of data analytic question (e.g. exploration, association causality) before touching the data?\n",
    "\n",
    ">We're trying to design a predictive model capable of accurately predicting credit risk analysis, i.e., quantifying the creditworthiness of potential borrowers and their ability to honor their debt obligations. This is known as default risk: when a borrowers defaults, it means they didn't pay their debt in time. Taking that into account, the prediction is based on a set of features, such as the amount of money requested by the borrower, the interest rate associated with the loan, the loan grade history of the borrower, the annual income of the borrower, the purpose of borrowing, the monthly amount payments for opted loan and the duration of the loan until it's paid off.\n",
    "\n",
    "#### Did you define the metric for success before beginning?\n",
    "\n",
    "> Let's do that now. Since we are performing a classification, we can use accuracy (the fraction of correctly classified classes), to define a metric for the quality of our algorithm. After some research, we came to the conclusion that, in the long term, a model with an accuracy of less than 70% of accuracy will underperform and will not generate profit. We will try to either match or beat this accuracy for values between 2015 and 2017.\n",
    "\n",
    "#### Did you record the experimental design?\n",
    "\n",
    "> No. We will be using a public dataset, which can be viewed on [Kaggle](https://www.kaggle.com/rameshmehta/credit-risk-analysis).\n",
    "\n",
    "#### Did you consider whether the question could be answered with the available data?\n",
    "\n",
    ">The provided data set has records of more than 800 000 loans, dating from 2015 to 2017. Taking that into account, and after processing and cleansing of such data, we are confident we will be able to make good predictions concerning the credit risk of loans. On the whole, we believe we have more than enough data that allows us to answer the question.\n",
    "\n",
    "<hr />"
   ]
  },
  {
   "cell_type": "code",
   "execution_count": null,
   "metadata": {},
   "outputs": [],
   "source": []
  }
 ],
 "metadata": {
  "kernelspec": {
   "display_name": "Python 3",
   "language": "python",
   "name": "python3"
  },
  "language_info": {
   "codemirror_mode": {
    "name": "ipython",
    "version": 3
   },
   "file_extension": ".py",
   "mimetype": "text/x-python",
   "name": "python",
   "nbconvert_exporter": "python",
   "pygments_lexer": "ipython3",
   "version": "3.8.5"
  }
 },
 "nbformat": 4,
 "nbformat_minor": 4
}
